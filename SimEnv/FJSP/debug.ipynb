{
 "cells": [
  {
   "cell_type": "code",
   "execution_count": 30,
   "metadata": {
    "collapsed": true,
    "ExecuteTime": {
     "end_time": "2023-11-17T08:38:31.105846800Z",
     "start_time": "2023-11-17T08:38:31.065138100Z"
    }
   },
   "outputs": [],
   "source": [
    "import pandas as pd\n",
    "\n",
    "op_data = []\n",
    "data = pd.read_csv('./test/abz5.csv', header=None)\n"
   ]
  },
  {
   "cell_type": "markdown",
   "source": [],
   "metadata": {
    "collapsed": false
   }
  },
  {
   "cell_type": "code",
   "execution_count": 31,
   "outputs": [
    {
     "data": {
      "text/plain": "[[(4, 88),\n  (8, 68),\n  (6, 94),\n  (5, 99),\n  (1, 67),\n  (2, 89),\n  (9, 77),\n  (7, 99),\n  (0, 86),\n  (3, 92)],\n [(5, 72),\n  (3, 50),\n  (6, 69),\n  (4, 75),\n  (2, 94),\n  (8, 66),\n  (0, 92),\n  (1, 82),\n  (7, 94),\n  (9, 63)],\n [(9, 83),\n  (8, 61),\n  (0, 83),\n  (1, 65),\n  (6, 64),\n  (5, 85),\n  (7, 78),\n  (4, 85),\n  (2, 55),\n  (3, 77)],\n [(7, 94),\n  (2, 68),\n  (1, 61),\n  (4, 99),\n  (3, 54),\n  (6, 75),\n  (5, 66),\n  (0, 76),\n  (9, 63),\n  (8, 67)],\n [(3, 69),\n  (4, 88),\n  (9, 82),\n  (8, 95),\n  (0, 99),\n  (2, 67),\n  (6, 95),\n  (5, 68),\n  (7, 67),\n  (1, 86)],\n [(1, 99),\n  (4, 81),\n  (5, 64),\n  (6, 66),\n  (8, 80),\n  (2, 80),\n  (7, 69),\n  (9, 62),\n  (3, 79),\n  (0, 88)],\n [(7, 50),\n  (1, 86),\n  (4, 97),\n  (3, 96),\n  (0, 95),\n  (8, 97),\n  (2, 66),\n  (5, 99),\n  (6, 52),\n  (9, 71)],\n [(4, 98),\n  (6, 73),\n  (3, 82),\n  (2, 51),\n  (1, 71),\n  (5, 94),\n  (7, 85),\n  (0, 62),\n  (8, 95),\n  (9, 79)],\n [(0, 94),\n  (6, 71),\n  (3, 81),\n  (7, 85),\n  (1, 66),\n  (2, 90),\n  (4, 76),\n  (5, 58),\n  (8, 93),\n  (9, 97)],\n [(3, 50),\n  (0, 59),\n  (1, 82),\n  (8, 67),\n  (7, 56),\n  (9, 96),\n  (6, 58),\n  (4, 81),\n  (5, 59),\n  (2, 96)]]"
     },
     "execution_count": 31,
     "metadata": {},
     "output_type": "execute_result"
    }
   ],
   "source": [
    "for i in range(10):\n",
    "    op_data.append([])\n",
    "    for j in range(10):\n",
    "        op_data[i].append((data.iloc[10+i,j]-1, data.iloc[i, j]))\n",
    "\n",
    "op_data"
   ],
   "metadata": {
    "collapsed": false,
    "ExecuteTime": {
     "end_time": "2023-11-17T08:38:32.072659300Z",
     "start_time": "2023-11-17T08:38:32.009597800Z"
    }
   }
  },
  {
   "cell_type": "code",
   "execution_count": 32,
   "outputs": [
    {
     "data": {
      "text/plain": "     0   1   2   3   4   5   6   7   8   9\n0   88  68  94  99  67  89  77  99  86  92\n1   72  50  69  75  94  66  92  82  94  63\n2   83  61  83  65  64  85  78  85  55  77\n3   94  68  61  99  54  75  66  76  63  67\n4   69  88  82  95  99  67  95  68  67  86\n5   99  81  64  66  80  80  69  62  79  88\n6   50  86  97  96  95  97  66  99  52  71\n7   98  73  82  51  71  94  85  62  95  79\n8   94  71  81  85  66  90  76  58  93  97\n9   50  59  82  67  56  96  58  81  59  96\n10   5   9   7   6   2   3  10   8   1   4\n11   6   4   7   5   3   9   1   2   8  10\n12  10   9   1   2   7   6   8   5   3   4\n13   8   3   2   5   4   7   6   1  10   9\n14   4   5  10   9   1   3   7   6   8   2\n15   2   5   6   7   9   3   8  10   4   1\n16   8   2   5   4   1   9   3   6   7  10\n17   5   7   4   3   2   6   8   1   9  10\n18   1   7   4   8   2   3   5   6   9  10\n19   4   1   2   9   8  10   7   5   6   3",
      "text/html": "<div>\n<style scoped>\n    .dataframe tbody tr th:only-of-type {\n        vertical-align: middle;\n    }\n\n    .dataframe tbody tr th {\n        vertical-align: top;\n    }\n\n    .dataframe thead th {\n        text-align: right;\n    }\n</style>\n<table border=\"1\" class=\"dataframe\">\n  <thead>\n    <tr style=\"text-align: right;\">\n      <th></th>\n      <th>0</th>\n      <th>1</th>\n      <th>2</th>\n      <th>3</th>\n      <th>4</th>\n      <th>5</th>\n      <th>6</th>\n      <th>7</th>\n      <th>8</th>\n      <th>9</th>\n    </tr>\n  </thead>\n  <tbody>\n    <tr>\n      <th>0</th>\n      <td>88</td>\n      <td>68</td>\n      <td>94</td>\n      <td>99</td>\n      <td>67</td>\n      <td>89</td>\n      <td>77</td>\n      <td>99</td>\n      <td>86</td>\n      <td>92</td>\n    </tr>\n    <tr>\n      <th>1</th>\n      <td>72</td>\n      <td>50</td>\n      <td>69</td>\n      <td>75</td>\n      <td>94</td>\n      <td>66</td>\n      <td>92</td>\n      <td>82</td>\n      <td>94</td>\n      <td>63</td>\n    </tr>\n    <tr>\n      <th>2</th>\n      <td>83</td>\n      <td>61</td>\n      <td>83</td>\n      <td>65</td>\n      <td>64</td>\n      <td>85</td>\n      <td>78</td>\n      <td>85</td>\n      <td>55</td>\n      <td>77</td>\n    </tr>\n    <tr>\n      <th>3</th>\n      <td>94</td>\n      <td>68</td>\n      <td>61</td>\n      <td>99</td>\n      <td>54</td>\n      <td>75</td>\n      <td>66</td>\n      <td>76</td>\n      <td>63</td>\n      <td>67</td>\n    </tr>\n    <tr>\n      <th>4</th>\n      <td>69</td>\n      <td>88</td>\n      <td>82</td>\n      <td>95</td>\n      <td>99</td>\n      <td>67</td>\n      <td>95</td>\n      <td>68</td>\n      <td>67</td>\n      <td>86</td>\n    </tr>\n    <tr>\n      <th>5</th>\n      <td>99</td>\n      <td>81</td>\n      <td>64</td>\n      <td>66</td>\n      <td>80</td>\n      <td>80</td>\n      <td>69</td>\n      <td>62</td>\n      <td>79</td>\n      <td>88</td>\n    </tr>\n    <tr>\n      <th>6</th>\n      <td>50</td>\n      <td>86</td>\n      <td>97</td>\n      <td>96</td>\n      <td>95</td>\n      <td>97</td>\n      <td>66</td>\n      <td>99</td>\n      <td>52</td>\n      <td>71</td>\n    </tr>\n    <tr>\n      <th>7</th>\n      <td>98</td>\n      <td>73</td>\n      <td>82</td>\n      <td>51</td>\n      <td>71</td>\n      <td>94</td>\n      <td>85</td>\n      <td>62</td>\n      <td>95</td>\n      <td>79</td>\n    </tr>\n    <tr>\n      <th>8</th>\n      <td>94</td>\n      <td>71</td>\n      <td>81</td>\n      <td>85</td>\n      <td>66</td>\n      <td>90</td>\n      <td>76</td>\n      <td>58</td>\n      <td>93</td>\n      <td>97</td>\n    </tr>\n    <tr>\n      <th>9</th>\n      <td>50</td>\n      <td>59</td>\n      <td>82</td>\n      <td>67</td>\n      <td>56</td>\n      <td>96</td>\n      <td>58</td>\n      <td>81</td>\n      <td>59</td>\n      <td>96</td>\n    </tr>\n    <tr>\n      <th>10</th>\n      <td>5</td>\n      <td>9</td>\n      <td>7</td>\n      <td>6</td>\n      <td>2</td>\n      <td>3</td>\n      <td>10</td>\n      <td>8</td>\n      <td>1</td>\n      <td>4</td>\n    </tr>\n    <tr>\n      <th>11</th>\n      <td>6</td>\n      <td>4</td>\n      <td>7</td>\n      <td>5</td>\n      <td>3</td>\n      <td>9</td>\n      <td>1</td>\n      <td>2</td>\n      <td>8</td>\n      <td>10</td>\n    </tr>\n    <tr>\n      <th>12</th>\n      <td>10</td>\n      <td>9</td>\n      <td>1</td>\n      <td>2</td>\n      <td>7</td>\n      <td>6</td>\n      <td>8</td>\n      <td>5</td>\n      <td>3</td>\n      <td>4</td>\n    </tr>\n    <tr>\n      <th>13</th>\n      <td>8</td>\n      <td>3</td>\n      <td>2</td>\n      <td>5</td>\n      <td>4</td>\n      <td>7</td>\n      <td>6</td>\n      <td>1</td>\n      <td>10</td>\n      <td>9</td>\n    </tr>\n    <tr>\n      <th>14</th>\n      <td>4</td>\n      <td>5</td>\n      <td>10</td>\n      <td>9</td>\n      <td>1</td>\n      <td>3</td>\n      <td>7</td>\n      <td>6</td>\n      <td>8</td>\n      <td>2</td>\n    </tr>\n    <tr>\n      <th>15</th>\n      <td>2</td>\n      <td>5</td>\n      <td>6</td>\n      <td>7</td>\n      <td>9</td>\n      <td>3</td>\n      <td>8</td>\n      <td>10</td>\n      <td>4</td>\n      <td>1</td>\n    </tr>\n    <tr>\n      <th>16</th>\n      <td>8</td>\n      <td>2</td>\n      <td>5</td>\n      <td>4</td>\n      <td>1</td>\n      <td>9</td>\n      <td>3</td>\n      <td>6</td>\n      <td>7</td>\n      <td>10</td>\n    </tr>\n    <tr>\n      <th>17</th>\n      <td>5</td>\n      <td>7</td>\n      <td>4</td>\n      <td>3</td>\n      <td>2</td>\n      <td>6</td>\n      <td>8</td>\n      <td>1</td>\n      <td>9</td>\n      <td>10</td>\n    </tr>\n    <tr>\n      <th>18</th>\n      <td>1</td>\n      <td>7</td>\n      <td>4</td>\n      <td>8</td>\n      <td>2</td>\n      <td>3</td>\n      <td>5</td>\n      <td>6</td>\n      <td>9</td>\n      <td>10</td>\n    </tr>\n    <tr>\n      <th>19</th>\n      <td>4</td>\n      <td>1</td>\n      <td>2</td>\n      <td>9</td>\n      <td>8</td>\n      <td>10</td>\n      <td>7</td>\n      <td>5</td>\n      <td>6</td>\n      <td>3</td>\n    </tr>\n  </tbody>\n</table>\n</div>"
     },
     "execution_count": 32,
     "metadata": {},
     "output_type": "execute_result"
    }
   ],
   "source": [
    "data"
   ],
   "metadata": {
    "collapsed": false,
    "ExecuteTime": {
     "end_time": "2023-11-17T08:38:33.063542Z",
     "start_time": "2023-11-17T08:38:32.978114200Z"
    }
   }
  },
  {
   "cell_type": "code",
   "execution_count": 4,
   "outputs": [
    {
     "data": {
      "text/plain": "(4, 88)"
     },
     "execution_count": 4,
     "metadata": {},
     "output_type": "execute_result"
    }
   ],
   "source": [
    "(data.iloc[10,0]-1, data.iloc[0, 0])"
   ],
   "metadata": {
    "collapsed": false,
    "ExecuteTime": {
     "end_time": "2023-11-17T03:58:12.560404200Z",
     "start_time": "2023-11-17T03:58:12.529319800Z"
    }
   }
  },
  {
   "cell_type": "code",
   "execution_count": 5,
   "outputs": [],
   "source": [
    "\n",
    "solution = pd.read_csv('./test/abz5_solution_start.csv', header=None)"
   ],
   "metadata": {
    "collapsed": false,
    "ExecuteTime": {
     "end_time": "2023-11-17T03:58:18.355137800Z",
     "start_time": "2023-11-17T03:58:18.307264800Z"
    }
   }
  },
  {
   "cell_type": "code",
   "execution_count": 22,
   "outputs": [
    {
     "data": {
      "text/plain": "      0     1     2     3    4     5     6     7     8     9\n0  1039   654   774  1125  267   555   461   940   363   863\n1   903   995   430   119  355     0   242  1077   711  1171\n2   144   230   940   995  850   469   397   753    83     0\n3   827   457   304   626  527   761   686     0  1003   940\n4   363  1077   524     0   98   686   591   831   268   186\n5  1125     0   604   852  186   267   331   684   524   790\n6   623   144   874   527  430   940  1039    94   777  1100\n7   554   304   253   171    0   375    98   469   616   711\n8     0   518   684   253  774   850   171   334   908  1003\n9   227   375  1098    69  935  1039   761   554   457   610",
      "text/html": "<div>\n<style scoped>\n    .dataframe tbody tr th:only-of-type {\n        vertical-align: middle;\n    }\n\n    .dataframe tbody tr th {\n        vertical-align: top;\n    }\n\n    .dataframe thead th {\n        text-align: right;\n    }\n</style>\n<table border=\"1\" class=\"dataframe\">\n  <thead>\n    <tr style=\"text-align: right;\">\n      <th></th>\n      <th>0</th>\n      <th>1</th>\n      <th>2</th>\n      <th>3</th>\n      <th>4</th>\n      <th>5</th>\n      <th>6</th>\n      <th>7</th>\n      <th>8</th>\n      <th>9</th>\n    </tr>\n  </thead>\n  <tbody>\n    <tr>\n      <th>0</th>\n      <td>1039</td>\n      <td>654</td>\n      <td>774</td>\n      <td>1125</td>\n      <td>267</td>\n      <td>555</td>\n      <td>461</td>\n      <td>940</td>\n      <td>363</td>\n      <td>863</td>\n    </tr>\n    <tr>\n      <th>1</th>\n      <td>903</td>\n      <td>995</td>\n      <td>430</td>\n      <td>119</td>\n      <td>355</td>\n      <td>0</td>\n      <td>242</td>\n      <td>1077</td>\n      <td>711</td>\n      <td>1171</td>\n    </tr>\n    <tr>\n      <th>2</th>\n      <td>144</td>\n      <td>230</td>\n      <td>940</td>\n      <td>995</td>\n      <td>850</td>\n      <td>469</td>\n      <td>397</td>\n      <td>753</td>\n      <td>83</td>\n      <td>0</td>\n    </tr>\n    <tr>\n      <th>3</th>\n      <td>827</td>\n      <td>457</td>\n      <td>304</td>\n      <td>626</td>\n      <td>527</td>\n      <td>761</td>\n      <td>686</td>\n      <td>0</td>\n      <td>1003</td>\n      <td>940</td>\n    </tr>\n    <tr>\n      <th>4</th>\n      <td>363</td>\n      <td>1077</td>\n      <td>524</td>\n      <td>0</td>\n      <td>98</td>\n      <td>686</td>\n      <td>591</td>\n      <td>831</td>\n      <td>268</td>\n      <td>186</td>\n    </tr>\n    <tr>\n      <th>5</th>\n      <td>1125</td>\n      <td>0</td>\n      <td>604</td>\n      <td>852</td>\n      <td>186</td>\n      <td>267</td>\n      <td>331</td>\n      <td>684</td>\n      <td>524</td>\n      <td>790</td>\n    </tr>\n    <tr>\n      <th>6</th>\n      <td>623</td>\n      <td>144</td>\n      <td>874</td>\n      <td>527</td>\n      <td>430</td>\n      <td>940</td>\n      <td>1039</td>\n      <td>94</td>\n      <td>777</td>\n      <td>1100</td>\n    </tr>\n    <tr>\n      <th>7</th>\n      <td>554</td>\n      <td>304</td>\n      <td>253</td>\n      <td>171</td>\n      <td>0</td>\n      <td>375</td>\n      <td>98</td>\n      <td>469</td>\n      <td>616</td>\n      <td>711</td>\n    </tr>\n    <tr>\n      <th>8</th>\n      <td>0</td>\n      <td>518</td>\n      <td>684</td>\n      <td>253</td>\n      <td>774</td>\n      <td>850</td>\n      <td>171</td>\n      <td>334</td>\n      <td>908</td>\n      <td>1003</td>\n    </tr>\n    <tr>\n      <th>9</th>\n      <td>227</td>\n      <td>375</td>\n      <td>1098</td>\n      <td>69</td>\n      <td>935</td>\n      <td>1039</td>\n      <td>761</td>\n      <td>554</td>\n      <td>457</td>\n      <td>610</td>\n    </tr>\n  </tbody>\n</table>\n</div>"
     },
     "execution_count": 22,
     "metadata": {},
     "output_type": "execute_result"
    }
   ],
   "source": [
    "solution"
   ],
   "metadata": {
    "collapsed": false,
    "ExecuteTime": {
     "end_time": "2023-11-17T07:39:36.168456500Z",
     "start_time": "2023-11-17T07:39:36.124262400Z"
    }
   }
  },
  {
   "cell_type": "code",
   "execution_count": 23,
   "outputs": [],
   "source": [
    "machine = [[] for i in range(data.shape[1])]\n"
   ],
   "metadata": {
    "collapsed": false,
    "ExecuteTime": {
     "end_time": "2023-11-17T07:39:37.952174900Z",
     "start_time": "2023-11-17T07:39:37.947028700Z"
    }
   }
  },
  {
   "cell_type": "code",
   "execution_count": 24,
   "outputs": [
    {
     "data": {
      "text/plain": "10"
     },
     "execution_count": 24,
     "metadata": {},
     "output_type": "execute_result"
    }
   ],
   "source": [
    "data.shape[1]"
   ],
   "metadata": {
    "collapsed": false,
    "ExecuteTime": {
     "end_time": "2023-11-17T07:39:38.673639100Z",
     "start_time": "2023-11-17T07:39:38.655571100Z"
    }
   }
  },
  {
   "cell_type": "code",
   "execution_count": 25,
   "outputs": [
    {
     "data": {
      "text/plain": "[1039, 654, 774, 1125, 267, 555, 461, 940, 363, 863]"
     },
     "execution_count": 25,
     "metadata": {},
     "output_type": "execute_result"
    }
   ],
   "source": [
    "\n",
    "start_time = list(solution.iloc[0,:])\n",
    "start_time"
   ],
   "metadata": {
    "collapsed": false,
    "ExecuteTime": {
     "end_time": "2023-11-17T07:39:39.656314500Z",
     "start_time": "2023-11-17T07:39:39.617217400Z"
    }
   }
  },
  {
   "cell_type": "code",
   "execution_count": 26,
   "outputs": [
    {
     "data": {
      "text/plain": "[4, 8, 6, 5, 1, 2, 9, 7, 0, 3]"
     },
     "execution_count": 26,
     "metadata": {},
     "output_type": "execute_result"
    }
   ],
   "source": [
    "value = sorted(start_time, reverse=False)\n",
    "machine[0] = sorted(range(len(start_time)),key=lambda k: start_time[k])\n",
    "machine[0]"
   ],
   "metadata": {
    "collapsed": false,
    "ExecuteTime": {
     "end_time": "2023-11-17T07:39:40.946226700Z",
     "start_time": "2023-11-17T07:39:40.930970Z"
    }
   }
  },
  {
   "cell_type": "code",
   "execution_count": 28,
   "outputs": [],
   "source": [
    "\n",
    "solution = pd.read_csv('./test/abz5_solution_start.csv', header=None)\n",
    "machine = [[] for i in range(data.shape[1])]\n",
    "\n",
    "for i in range(data.shape[1]):\n",
    "    start_time = list(solution.iloc[:,i])\n",
    "    value = sorted(start_time, reverse=False)\n",
    "    machine[i] = sorted(range(len(start_time)),key=lambda k: start_time[k])\n"
   ],
   "metadata": {
    "collapsed": false,
    "ExecuteTime": {
     "end_time": "2023-11-17T07:40:42.824302400Z",
     "start_time": "2023-11-17T07:40:42.785328200Z"
    }
   }
  },
  {
   "cell_type": "code",
   "execution_count": 29,
   "outputs": [
    {
     "data": {
      "text/plain": "[[8, 2, 9, 4, 7, 6, 3, 1, 0, 5],\n [5, 6, 2, 7, 9, 3, 8, 0, 1, 4],\n [7, 3, 1, 4, 5, 8, 0, 6, 2, 9],\n [4, 9, 1, 7, 8, 6, 3, 5, 2, 0],\n [7, 4, 5, 0, 1, 6, 3, 8, 2, 9],\n [1, 5, 7, 2, 0, 4, 3, 8, 6, 9],\n [7, 8, 1, 5, 2, 0, 4, 3, 9, 6],\n [3, 6, 8, 7, 9, 5, 2, 4, 0, 1],\n [2, 4, 0, 9, 5, 7, 1, 6, 8, 3],\n [2, 4, 9, 7, 5, 0, 3, 8, 6, 1]]"
     },
     "execution_count": 29,
     "metadata": {},
     "output_type": "execute_result"
    }
   ],
   "source": [
    "machine"
   ],
   "metadata": {
    "collapsed": false,
    "ExecuteTime": {
     "end_time": "2023-11-17T07:40:43.461709500Z",
     "start_time": "2023-11-17T07:40:43.429468900Z"
    }
   }
  },
  {
   "cell_type": "code",
   "execution_count": 39,
   "outputs": [
    {
     "name": "stdout",
     "output_type": "stream",
     "text": [
      "i: 0 \tidx: [4 5 8]\n",
      "i: 1 \tidx: [3 6 7]\n",
      "i: 2 \tidx: [0 1 2]\n",
      "Job Sequence : [2, 2, 2, 1, 0, 0, 1, 1, 0]\n",
      "Machine list : [1, 0, 2, 2, 0, 1, 1, 0, 2]\n",
      "0 [1 4 7]\n",
      "1 [0 5 6]\n",
      "2 [2 3 8]\n",
      "[8, 7, 6, 3, 2, 1, 5, 4, 0]\n",
      "[2, 2, 2, 1, 0, 0, 1, 1, 0]\n",
      "[6 7 8 3 0 1 4 5 2]\n",
      "[[2, 0, 1], [2, 0, 1], [2, 1, 0]]\n"
     ]
    }
   ],
   "source": [
    "\n",
    "import numpy as np\n",
    "\n",
    "NUM_MACHINE = 3\n",
    "NUM_OP = 3\n",
    "op_data = [ [(0, 5), (1, 5), (2, 5)],\n",
    "            [(2, 5), (1, 5), (0, 5)],\n",
    "            [(1, 5), (0, 5), (2, 5)]]\n",
    "\n",
    "class Individual():\n",
    "    def __init__(self, seq):\n",
    "        self.seq = seq\n",
    "        self.repeated_seq = self.get_repeatable()\n",
    "        self.feasible_seq = self.get_feasible()\n",
    "        # self.machine_order = self.get_machine_order()\n",
    "        self.makespan = 0.0\n",
    "        self.machine_seq = self.get_machine_order()\n",
    "\n",
    "    def get_repeatable(self):\n",
    "        cumul = 0\n",
    "        sequence_ = np.array(self.seq)\n",
    "        for i in range(NUM_MACHINE):\n",
    "            for j in range(NUM_OP):\n",
    "                sequence_ = np.where((sequence_ >= cumul) &\n",
    "                                     (sequence_ < cumul + NUM_MACHINE), i, sequence_)\n",
    "            cumul += NUM_MACHINE\n",
    "        sequence_ = sequence_.tolist()\n",
    "        return sequence_\n",
    "\n",
    "    def get_feasible(self):\n",
    "        temp = 0\n",
    "        cumul = 0\n",
    "        sequence_ = np.array(self.seq)\n",
    "        for i in range(NUM_MACHINE):\n",
    "            idx = np.where((sequence_ >= cumul) & (sequence_ < cumul + NUM_MACHINE))[0]\n",
    "            print('i:',i,'\\tidx:',idx)\n",
    "            for j in range(NUM_OP):\n",
    "                sequence_[idx[j]] = temp\n",
    "                temp += 1\n",
    "            cumul += NUM_MACHINE\n",
    "\n",
    "        return sequence_\n",
    "\n",
    "    def get_machine_order(self):\n",
    "        m_list = []\n",
    "        for num in self.feasible_seq:\n",
    "            idx_i = num % NUM_OP\n",
    "            idx_j = num // NUM_MACHINE\n",
    "            # print('idx_i:\\t',idx_i)\n",
    "            # print('idx_j:\\t',idx_j)\n",
    "            m_list.append(op_data[idx_j][idx_i][0])\n",
    "        print('Job Sequence :', self.repeated_seq)\n",
    "        print('Machine list :', m_list)\n",
    "        m_list = np.array(m_list)\n",
    "        machine_order = []\n",
    "        for num in range(NUM_MACHINE):\n",
    "            # machine_order.append([])\n",
    "            idx = np.where((m_list == num))[0]\n",
    "            print(num, idx)\n",
    "            job_order = [self.repeated_seq[o]for o in idx]\n",
    "            machine_order.append(job_order)\n",
    "\n",
    "\n",
    "        return machine_order\n",
    "\n",
    "    # def get_machine_order(self):\n",
    "\n",
    "sequence = [8,7,6,3,2,1,5,4,0]\n",
    "ind = Individual(sequence)\n",
    "print(ind.seq)\n",
    "print(ind.repeated_seq)\n",
    "print(ind.feasible_seq)\n",
    "print(ind.machine_seq)"
   ],
   "metadata": {
    "collapsed": false,
    "ExecuteTime": {
     "end_time": "2023-11-21T07:47:47.043279800Z",
     "start_time": "2023-11-21T07:47:47.015351100Z"
    }
   }
  },
  {
   "cell_type": "code",
   "execution_count": 19,
   "outputs": [
    {
     "data": {
      "text/plain": "(2, 5)"
     },
     "execution_count": 19,
     "metadata": {},
     "output_type": "execute_result"
    }
   ],
   "source": [
    "op_data[0][2]"
   ],
   "metadata": {
    "collapsed": false,
    "ExecuteTime": {
     "end_time": "2023-11-21T07:31:11.923335800Z",
     "start_time": "2023-11-21T07:31:11.906083600Z"
    }
   }
  },
  {
   "cell_type": "code",
   "execution_count": 33,
   "outputs": [
    {
     "data": {
      "text/plain": "(array([0, 5, 6], dtype=int64),)"
     },
     "execution_count": 33,
     "metadata": {},
     "output_type": "execute_result"
    }
   ],
   "source": [
    "m_list = np.array([1, 0, 2, 2, 0, 1, 1, 0, 2])\n",
    "idx = np.where((m_list == 1))\n",
    "idx"
   ],
   "metadata": {
    "collapsed": false,
    "ExecuteTime": {
     "end_time": "2023-11-21T07:44:30.143922Z",
     "start_time": "2023-11-21T07:44:30.128470400Z"
    }
   }
  },
  {
   "cell_type": "code",
   "execution_count": null,
   "outputs": [],
   "source": [],
   "metadata": {
    "collapsed": false
   }
  }
 ],
 "metadata": {
  "kernelspec": {
   "display_name": "Python 3",
   "language": "python",
   "name": "python3"
  },
  "language_info": {
   "codemirror_mode": {
    "name": "ipython",
    "version": 2
   },
   "file_extension": ".py",
   "mimetype": "text/x-python",
   "name": "python",
   "nbconvert_exporter": "python",
   "pygments_lexer": "ipython2",
   "version": "2.7.6"
  }
 },
 "nbformat": 4,
 "nbformat_minor": 0
}
